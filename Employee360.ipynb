{
  "nbformat": 4,
  "nbformat_minor": 0,
  "metadata": {
    "colab": {
      "provenance": []
    },
    "kernelspec": {
      "name": "python3",
      "display_name": "Python 3"
    },
    "language_info": {
      "name": "python"
    }
  },
  "cells": [
    {
      "cell_type": "markdown",
      "source": [
        "# Imports"
      ],
      "metadata": {
        "id": "fCcRJEd_M-6F"
      }
    },
    {
      "cell_type": "code",
      "execution_count": 51,
      "metadata": {
        "id": "vmBj3OhO8pr0"
      },
      "outputs": [],
      "source": [
        "import pandas as pd\n",
        "import numpy as np\n",
        "import matplotlib.pyplot as plt\n",
        "import seaborn as sns"
      ]
    },
    {
      "cell_type": "code",
      "source": [
        "from sklearn.model_selection import train_test_split\n",
        "from sklearn.preprocessing import StandardScaler, LabelEncoder\n",
        "from sklearn.metrics import classification_report, confusion_matrix, roc_auc_score\n",
        "from imblearn.over_sampling import SMOTE\n",
        "\n",
        "from sklearn.ensemble import RandomForestClassifier\n",
        "from xgboost import XGBClassifier\n",
        "import joblib"
      ],
      "metadata": {
        "id": "-NQYD_y48uJ7"
      },
      "execution_count": 52,
      "outputs": []
    },
    {
      "cell_type": "markdown",
      "source": [
        "# Deep Learning Imports\n"
      ],
      "metadata": {
        "id": "6EH5LC4DNdWi"
      }
    },
    {
      "cell_type": "code",
      "source": [
        "import tensorflow as tf\n",
        "from tensorflow.keras.models import Sequential\n",
        "from tensorflow.keras.layers import Dense, Dropout, BatchNormalization\n",
        "from tensorflow.keras.callbacks import EarlyStopping"
      ],
      "metadata": {
        "id": "Vi0ms6d69VAU"
      },
      "execution_count": 53,
      "outputs": []
    },
    {
      "cell_type": "markdown",
      "source": [
        "# Load Dataset\n"
      ],
      "metadata": {
        "id": "8TUlTtVyNt6K"
      }
    },
    {
      "cell_type": "code",
      "source": [
        "df = pd.read_csv(\"hr_analysis_data.csv\")\n",
        "print(\"Dataset Shape:\", df.shape)\n"
      ],
      "metadata": {
        "colab": {
          "base_uri": "https://localhost:8080/"
        },
        "id": "y9njVF5CFWNs",
        "outputId": "9daab3c5-f693-4825-8ea1-4205abc2135d"
      },
      "execution_count": 55,
      "outputs": [
        {
          "output_type": "stream",
          "name": "stdout",
          "text": [
            "Dataset Shape: (54808, 14)\n"
          ]
        }
      ]
    },
    {
      "cell_type": "markdown",
      "source": [
        "#Check and Fill Missing\n"
      ],
      "metadata": {
        "id": "cdM5qrLuOV-O"
      }
    },
    {
      "cell_type": "code",
      "source": [
        "df['previous_year_rating'].fillna(df['previous_year_rating'].median(), inplace=True)"
      ],
      "metadata": {
        "colab": {
          "base_uri": "https://localhost:8080/"
        },
        "id": "3FIhWCjnGGbn",
        "outputId": "d3bde67e-6fd8-4bcc-d41f-a6ca19f76cc5"
      },
      "execution_count": 56,
      "outputs": [
        {
          "output_type": "stream",
          "name": "stderr",
          "text": [
            "<ipython-input-56-e6bd09b750da>:1: FutureWarning: A value is trying to be set on a copy of a DataFrame or Series through chained assignment using an inplace method.\n",
            "The behavior will change in pandas 3.0. This inplace method will never work because the intermediate object on which we are setting values always behaves as a copy.\n",
            "\n",
            "For example, when doing 'df[col].method(value, inplace=True)', try using 'df.method({col: value}, inplace=True)' or df[col] = df[col].method(value) instead, to perform the operation inplace on the original object.\n",
            "\n",
            "\n",
            "  df['previous_year_rating'].fillna(df['previous_year_rating'].median(), inplace=True)\n"
          ]
        }
      ]
    },
    {
      "cell_type": "markdown",
      "source": [
        "#Label Encoding"
      ],
      "metadata": {
        "id": "ylXWv8MxOiQs"
      }
    },
    {
      "cell_type": "code",
      "source": [
        "df['previous_year_rating'].fillna(df['previous_year_rating'].median(), inplace=True)\n",
        "\n",
        "label_cols = ['department', 'education', 'gender']\n",
        "for col in label_cols:\n",
        "    df[col] = LabelEncoder().fit_transform(df[col])\n"
      ],
      "metadata": {
        "colab": {
          "base_uri": "https://localhost:8080/"
        },
        "id": "yS9vAjS-GXwA",
        "outputId": "ad869710-803f-452f-9236-ad68f29451bf"
      },
      "execution_count": 57,
      "outputs": [
        {
          "output_type": "stream",
          "name": "stderr",
          "text": [
            "<ipython-input-57-b0f12e7cc94f>:1: FutureWarning: A value is trying to be set on a copy of a DataFrame or Series through chained assignment using an inplace method.\n",
            "The behavior will change in pandas 3.0. This inplace method will never work because the intermediate object on which we are setting values always behaves as a copy.\n",
            "\n",
            "For example, when doing 'df[col].method(value, inplace=True)', try using 'df.method({col: value}, inplace=True)' or df[col] = df[col].method(value) instead, to perform the operation inplace on the original object.\n",
            "\n",
            "\n",
            "  df['previous_year_rating'].fillna(df['previous_year_rating'].median(), inplace=True)\n"
          ]
        }
      ]
    },
    {
      "cell_type": "markdown",
      "source": [
        "# Feature Engineering: Create Synthetic Target"
      ],
      "metadata": {
        "id": "5xqNSg3eP1zY"
      }
    },
    {
      "cell_type": "code",
      "source": [
        "df['is_promoted'] = ((df['awards_won?'] == 1) &\n",
        "                     (df['KPIs_met >80%'] == 1) &\n",
        "                     (df['previous_year_rating'] >= 4)).astype(int)"
      ],
      "metadata": {
        "id": "PNw3Tr59P-vD"
      },
      "execution_count": 58,
      "outputs": []
    },
    {
      "cell_type": "markdown",
      "source": [
        "# Add Tenure Group\n"
      ],
      "metadata": {
        "id": "ndXG1UYeOvU5"
      }
    },
    {
      "cell_type": "code",
      "source": [
        "df['tenure_group'] = pd.cut(df['length_of_service'],\n",
        "                            bins=[0, 2, 5, 10, 20],\n",
        "                            labels=['0-2', '3-5', '6-10', '10+'])\n",
        "df = pd.get_dummies(df, columns=['tenure_group'], drop_first=True)"
      ],
      "metadata": {
        "id": "g6jkG_X_Gne0"
      },
      "execution_count": 60,
      "outputs": []
    },
    {
      "cell_type": "markdown",
      "source": [
        "# Features and Target\n"
      ],
      "metadata": {
        "id": "fyfLI0nNQLLN"
      }
    },
    {
      "cell_type": "code",
      "source": [
        "# Step 5: Feature Selection\n",
        "features = ['age', 'education', 'previous_year_rating', 'length_of_service',\n",
        "            'KPIs_met >80%', 'awards_won?', 'avg_training_score',\n",
        "            'department', 'gender'] + [col for col in df.columns if 'tenure_group_' in col]"
      ],
      "metadata": {
        "id": "5KMxebJiHDK1"
      },
      "execution_count": 61,
      "outputs": []
    },
    {
      "cell_type": "code",
      "source": [
        "X = df[features]\n",
        "y = df['is_promoted']"
      ],
      "metadata": {
        "id": "Sq5FCN8aHJAK"
      },
      "execution_count": 63,
      "outputs": []
    },
    {
      "cell_type": "markdown",
      "source": [
        "# Balance Classes\n"
      ],
      "metadata": {
        "id": "RgQ-wU3uQVBi"
      }
    },
    {
      "cell_type": "code",
      "source": [
        "X_resampled, y_resampled = SMOTE(random_state=42).fit_resample(X, y)"
      ],
      "metadata": {
        "id": "LTnTNL6bHLoc"
      },
      "execution_count": 64,
      "outputs": []
    },
    {
      "cell_type": "markdown",
      "source": [
        "# Train-Test Split\n"
      ],
      "metadata": {
        "id": "JcMBP1s-QZsb"
      }
    },
    {
      "cell_type": "code",
      "source": [
        "X_train, X_test, y_train, y_test = train_test_split(X_resampled, y_resampled, test_size=0.2, random_state=42)"
      ],
      "metadata": {
        "id": "cighHoiaJsgC"
      },
      "execution_count": null,
      "outputs": []
    },
    {
      "cell_type": "markdown",
      "source": [
        "#Scale Features\n"
      ],
      "metadata": {
        "id": "nLXmaJWOQfoz"
      }
    },
    {
      "cell_type": "code",
      "source": [
        "scaler = StandardScaler()\n",
        "X_train_scaled = scaler.fit_transform(X_train)\n",
        "X_test_scaled = scaler.transform(X_test)"
      ],
      "metadata": {
        "id": "h3od0zWVJvBT"
      },
      "execution_count": 65,
      "outputs": []
    },
    {
      "cell_type": "markdown",
      "source": [
        "# Random Forest\n"
      ],
      "metadata": {
        "id": "DZEO1tRFQld4"
      }
    },
    {
      "cell_type": "code",
      "source": [
        "rf = RandomForestClassifier(n_estimators=100, random_state=42)\n",
        "rf.fit(X_train_scaled, y_train)\n",
        "rf_pred = rf.predict(X_test_scaled)"
      ],
      "metadata": {
        "id": "jnGtCdxVJ1VP"
      },
      "execution_count": 67,
      "outputs": []
    },
    {
      "cell_type": "code",
      "source": [
        "print(\"\\n Random Forest:\")\n",
        "print(classification_report(y_test, rf_pred))\n",
        "print(\"ROC AUC:\", roc_auc_score(y_test, rf_pred))"
      ],
      "metadata": {
        "colab": {
          "base_uri": "https://localhost:8080/"
        },
        "id": "W_GcNboEJ94N",
        "outputId": "9452455d-d2dc-4986-ad3f-d916ad0cf32e"
      },
      "execution_count": 69,
      "outputs": [
        {
          "output_type": "stream",
          "name": "stdout",
          "text": [
            "\n",
            " Random Forest:\n",
            "              precision    recall  f1-score   support\n",
            "\n",
            "           0       0.95      0.93      0.94     10197\n",
            "           1       0.93      0.95      0.94      9859\n",
            "\n",
            "    accuracy                           0.94     20056\n",
            "   macro avg       0.94      0.94      0.94     20056\n",
            "weighted avg       0.94      0.94      0.94     20056\n",
            "\n",
            "ROC AUC: 0.943385361129436\n"
          ]
        }
      ]
    },
    {
      "cell_type": "markdown",
      "source": [
        "# XGBoost\n"
      ],
      "metadata": {
        "id": "elK2Skj0Qus4"
      }
    },
    {
      "cell_type": "code",
      "source": [
        "xgb = XGBClassifier(use_label_encoder=False, eval_metric='logloss')\n",
        "xgb.fit(X_train_scaled, y_train)\n",
        "xgb_pred = xgb.predict(X_test_scaled)"
      ],
      "metadata": {
        "colab": {
          "base_uri": "https://localhost:8080/"
        },
        "id": "1BT12_gWKBR4",
        "outputId": "9a447735-bd56-42d7-ec40-e6d93393007a"
      },
      "execution_count": 70,
      "outputs": [
        {
          "output_type": "stream",
          "name": "stderr",
          "text": [
            "/usr/local/lib/python3.11/dist-packages/xgboost/core.py:158: UserWarning: [18:15:51] WARNING: /workspace/src/learner.cc:740: \n",
            "Parameters: { \"use_label_encoder\" } are not used.\n",
            "\n",
            "  warnings.warn(smsg, UserWarning)\n"
          ]
        }
      ]
    },
    {
      "cell_type": "code",
      "source": [
        "print(\"\\nXGBoost Classifier:\")\n",
        "print(classification_report(y_test, xgb_pred))\n",
        "print(\"ROC AUC:\", roc_auc_score(y_test, xgb_pred))"
      ],
      "metadata": {
        "colab": {
          "base_uri": "https://localhost:8080/"
        },
        "id": "Rps4Q_VHKEM6",
        "outputId": "9231cd4b-b7ee-4a77-dcef-73aec3f2ffc6"
      },
      "execution_count": 71,
      "outputs": [
        {
          "output_type": "stream",
          "name": "stdout",
          "text": [
            "\n",
            "XGBoost Classifier:\n",
            "              precision    recall  f1-score   support\n",
            "\n",
            "           0       0.91      0.89      0.90     10197\n",
            "           1       0.89      0.90      0.90      9859\n",
            "\n",
            "    accuracy                           0.90     20056\n",
            "   macro avg       0.90      0.90      0.90     20056\n",
            "weighted avg       0.90      0.90      0.90     20056\n",
            "\n",
            "ROC AUC: 0.8979913932670125\n"
          ]
        }
      ]
    },
    {
      "cell_type": "markdown",
      "source": [
        "# DNN with Dropout\n"
      ],
      "metadata": {
        "id": "SnJvl67rQ04n"
      }
    },
    {
      "cell_type": "code",
      "source": [
        "dl1 = Sequential([\n",
        "    Dense(64, activation='relu', input_shape=(X_train_scaled.shape[1],)),\n",
        "    Dropout(0.3),\n",
        "    Dense(32, activation='relu'),\n",
        "    Dropout(0.3),\n",
        "    Dense(1, activation='sigmoid')\n",
        "])"
      ],
      "metadata": {
        "colab": {
          "base_uri": "https://localhost:8080/"
        },
        "id": "XGXDpNQSKH3S",
        "outputId": "1054507a-3d68-49ef-b532-5d1549d937f2"
      },
      "execution_count": 72,
      "outputs": [
        {
          "output_type": "stream",
          "name": "stderr",
          "text": [
            "/usr/local/lib/python3.11/dist-packages/keras/src/layers/core/dense.py:87: UserWarning: Do not pass an `input_shape`/`input_dim` argument to a layer. When using Sequential models, prefer using an `Input(shape)` object as the first layer in the model instead.\n",
            "  super().__init__(activity_regularizer=activity_regularizer, **kwargs)\n"
          ]
        }
      ]
    },
    {
      "cell_type": "code",
      "source": [
        "dl1.compile(optimizer='adam', loss='binary_crossentropy', metrics=['accuracy'])\n",
        "history1 = dl1.fit(X_train_scaled, y_train, epochs=30, batch_size=64, validation_split=0.2,\n",
        "                   callbacks=[EarlyStopping(monitor='val_loss', patience=5)], verbose=0)"
      ],
      "metadata": {
        "id": "_I-sjwv9KNDV"
      },
      "execution_count": 73,
      "outputs": []
    },
    {
      "cell_type": "code",
      "source": [
        "dl1_pred = (dl1.predict(X_test_scaled) > 0.5).astype(\"int32\")\n",
        "print(\"\\n DNN (Dropout):\")\n",
        "print(classification_report(y_test, dl1_pred))\n",
        "print(\"ROC AUC:\", roc_auc_score(y_test, dl1_pred))"
      ],
      "metadata": {
        "id": "PH3kvTJRKRoz",
        "colab": {
          "base_uri": "https://localhost:8080/"
        },
        "outputId": "b50c3133-0f1b-41cc-c4dd-a0f06f82a924"
      },
      "execution_count": 74,
      "outputs": [
        {
          "output_type": "stream",
          "name": "stdout",
          "text": [
            "\u001b[1m627/627\u001b[0m \u001b[32m━━━━━━━━━━━━━━━━━━━━\u001b[0m\u001b[37m\u001b[0m \u001b[1m1s\u001b[0m 1ms/step\n",
            "\n",
            " DNN (Dropout):\n",
            "              precision    recall  f1-score   support\n",
            "\n",
            "           0       0.92      0.71      0.80     10197\n",
            "           1       0.76      0.94      0.84      9859\n",
            "\n",
            "    accuracy                           0.82     20056\n",
            "   macro avg       0.84      0.82      0.82     20056\n",
            "weighted avg       0.84      0.82      0.82     20056\n",
            "\n",
            "ROC AUC: 0.8211908981660536\n"
          ]
        }
      ]
    },
    {
      "cell_type": "markdown",
      "source": [
        "# DNN with BatchNorm\n"
      ],
      "metadata": {
        "id": "b5m_AG3IRpf0"
      }
    },
    {
      "cell_type": "code",
      "source": [
        "dl2 = Sequential([\n",
        "    Dense(128, input_shape=(X_train_scaled.shape[1],)),\n",
        "    BatchNormalization(),\n",
        "    tf.keras.layers.ReLU(),\n",
        "    Dropout(0.3),\n",
        "    Dense(64),\n",
        "    BatchNormalization(),\n",
        "    tf.keras.layers.ReLU(),\n",
        "    Dropout(0.3),\n",
        "    Dense(1, activation='sigmoid')\n",
        "])"
      ],
      "metadata": {
        "id": "Ua1QxBGPKUVO",
        "colab": {
          "base_uri": "https://localhost:8080/"
        },
        "outputId": "64ac807b-e2a7-4eaf-f5a5-91604e653964"
      },
      "execution_count": 75,
      "outputs": [
        {
          "output_type": "stream",
          "name": "stderr",
          "text": [
            "/usr/local/lib/python3.11/dist-packages/keras/src/layers/core/dense.py:87: UserWarning: Do not pass an `input_shape`/`input_dim` argument to a layer. When using Sequential models, prefer using an `Input(shape)` object as the first layer in the model instead.\n",
            "  super().__init__(activity_regularizer=activity_regularizer, **kwargs)\n"
          ]
        }
      ]
    },
    {
      "cell_type": "code",
      "source": [
        "dl2.compile(optimizer='adam', loss='binary_crossentropy', metrics=['accuracy'])\n",
        "history2 = dl2.fit(X_train_scaled, y_train, epochs=30, batch_size=64, validation_split=0.2,\n",
        "                   callbacks=[EarlyStopping(monitor='val_loss', patience=5)], verbose=0)"
      ],
      "metadata": {
        "id": "Dtdep-94KzTn"
      },
      "execution_count": 76,
      "outputs": []
    },
    {
      "cell_type": "code",
      "source": [
        "dl2_pred = (dl2.predict(X_test_scaled) > 0.5).astype(\"int32\")\n",
        "print(\"\\nDNN (BatchNorm):\")\n",
        "print(classification_report(y_test, dl2_pred))\n",
        "print(\"ROC AUC:\", roc_auc_score(y_test, dl2_pred))"
      ],
      "metadata": {
        "colab": {
          "base_uri": "https://localhost:8080/"
        },
        "id": "35KzXxDeLBO2",
        "outputId": "54dbadb7-5e94-4e0a-99af-15b41db5ffbe"
      },
      "execution_count": 77,
      "outputs": [
        {
          "output_type": "stream",
          "name": "stdout",
          "text": [
            "\u001b[1m627/627\u001b[0m \u001b[32m━━━━━━━━━━━━━━━━━━━━\u001b[0m\u001b[37m\u001b[0m \u001b[1m1s\u001b[0m 1ms/step\n",
            "\n",
            "DNN (BatchNorm):\n",
            "              precision    recall  f1-score   support\n",
            "\n",
            "           0       0.89      0.75      0.82     10197\n",
            "           1       0.78      0.90      0.84      9859\n",
            "\n",
            "    accuracy                           0.83     20056\n",
            "   macro avg       0.83      0.83      0.83     20056\n",
            "weighted avg       0.84      0.83      0.83     20056\n",
            "\n",
            "ROC AUC: 0.8284493718993959\n"
          ]
        }
      ]
    },
    {
      "cell_type": "code",
      "source": [
        "# Plot DL Accuracy Comparison\n",
        "plt.plot(history1.history['val_accuracy'], label='DNN Dropout')\n",
        "plt.plot(history2.history['val_accuracy'], label='DNN BatchNorm')\n",
        "plt.title('DL Model Validation Accuracy')\n",
        "plt.xlabel('Epoch')\n",
        "plt.ylabel('Val Accuracy')\n",
        "plt.legend()\n",
        "plt.grid(True)\n",
        "plt.show()"
      ],
      "metadata": {
        "colab": {
          "base_uri": "https://localhost:8080/",
          "height": 472
        },
        "id": "x2bxxTuSLDXa",
        "outputId": "6772ca1b-c141-40b8-c14d-c9bc0bddc385"
      },
      "execution_count": 78,
      "outputs": [
        {
          "output_type": "display_data",
          "data": {
            "text/plain": [
              "<Figure size 640x480 with 1 Axes>"
            ],
            "image/png": "[encoded data removed]"
          },
          "metadata": {}
        }
      ]
    },
    {
      "cell_type": "code",
      "source": [
        "# Save All Models\n",
        "joblib.dump(rf, 'rf_model.pkl')\n",
        "joblib.dump(xgb, 'xgb_model.pkl')\n",
        "joblib.dump(scaler, 'scaler.pkl')\n",
        "dl1.save(\"dl_model_dropout.h5\")\n",
        "dl2.save(\"dl_model_batchnorm.h5\")\n",
        "\n",
        "print(\"\\n All models saved.\")"
      ],
      "metadata": {
        "colab": {
          "base_uri": "https://localhost:8080/"
        },
        "id": "RKDRprarLmZf",
        "outputId": "9b36a7d2-d724-442b-d725-c7958b909bd1"
      },
      "execution_count": 79,
      "outputs": [
        {
          "output_type": "stream",
          "name": "stderr",
          "text": [
            "WARNING:absl:You are saving your model as an HDF5 file via `model.save()` or `keras.saving.save_model(model)`. This file format is considered legacy. We recommend using instead the native Keras format, e.g. `model.save('my_model.keras')` or `keras.saving.save_model(model, 'my_model.keras')`. \n",
            "WARNING:absl:You are saving your model as an HDF5 file via `model.save()` or `keras.saving.save_model(model)`. This file format is considered legacy. We recommend using instead the native Keras format, e.g. `model.save('my_model.keras')` or `keras.saving.save_model(model, 'my_model.keras')`. \n"
          ]
        },
        {
          "output_type": "stream",
          "name": "stdout",
          "text": [
            "\n",
            " All models saved.\n"
          ]
        }
      ]
    },
    {
      "cell_type": "code",
      "source": [
        "# Step: Compare All Models\n",
        "from sklearn.metrics import accuracy_score\n",
        "\n",
        "# Gather accuracy and AUC\n",
        "results = {\n",
        "    \"Random Forest\": {\n",
        "        \"accuracy\": accuracy_score(y_test, rf_pred),\n",
        "        \"roc_auc\": roc_auc_score(y_test, rf_pred)\n",
        "    },\n",
        "    \"XGBoost\": {\n",
        "        \"accuracy\": accuracy_score(y_test, xgb_pred),\n",
        "        \"roc_auc\": roc_auc_score(y_test, xgb_pred)\n",
        "    },\n",
        "    \"DNN Dropout\": {\n",
        "        \"accuracy\": accuracy_score(y_test, dl1_pred),\n",
        "        \"roc_auc\": roc_auc_score(y_test, dl1_pred)\n",
        "    },\n",
        "    \"DNN BatchNorm\": {\n",
        "        \"accuracy\": accuracy_score(y_test, dl2_pred),\n",
        "        \"roc_auc\": roc_auc_score(y_test, dl2_pred)\n",
        "    }\n",
        "}\n",
        "\n",
        "# Find the best model based on ROC AUC\n",
        "best_model = max(results.items(), key=lambda x: x[1]['roc_auc'])\n",
        "\n",
        "# Print Results\n",
        "print(\"\\n Model Comparison:\")\n",
        "for model_name, metrics in results.items():\n",
        "    print(f\"{model_name:<20} | Accuracy: {metrics['accuracy']:.4f} | ROC AUC: {metrics['roc_auc']:.4f}\")\n",
        "\n",
        "print(f\"\\n Best Model Based on ROC AUC: {best_model[0]} with ROC AUC: {best_model[1]['roc_auc']:.4f}\")\n"
      ],
      "metadata": {
        "colab": {
          "base_uri": "https://localhost:8080/"
        },
        "id": "RFi3F29PLqH4",
        "outputId": "07f6bbce-fec5-481c-d34a-2b6cd4d23cf2"
      },
      "execution_count": 80,
      "outputs": [
        {
          "output_type": "stream",
          "name": "stdout",
          "text": [
            "\n",
            " Model Comparison:\n",
            "Random Forest        | Accuracy: 0.9432 | ROC AUC: 0.9434\n",
            "XGBoost              | Accuracy: 0.8979 | ROC AUC: 0.8980\n",
            "DNN Dropout          | Accuracy: 0.8193 | ROC AUC: 0.8212\n",
            "DNN BatchNorm        | Accuracy: 0.8272 | ROC AUC: 0.8284\n",
            "\n",
            " Best Model Based on ROC AUC: Random Forest with ROC AUC: 0.9434\n"
          ]
        }
      ]
    },
    {
      "cell_type": "code",
      "source": [],
      "metadata": {
        "id": "ge9Am04lLw0u"
      },
      "execution_count": null,
      "outputs": []
    }
  ]
}